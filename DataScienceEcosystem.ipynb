{
 "cells": [
  {
   "cell_type": "markdown",
   "id": "5a3f570a-1c91-4480-8229-902c6bb2d6b3",
   "metadata": {},
   "source": [
    "# Data Science Tools and Ecosystem"
   ]
  },
  {
   "cell_type": "markdown",
   "id": "ca54bb31-e462-416c-b084-187a8eda2c4e",
   "metadata": {},
   "source": [
    "In this notebook, Data Science Tools and Ecosystem are summarized."
   ]
  },
  {
   "cell_type": "markdown",
   "id": "d7f99849-70a3-4173-8091-75fd6f50a8f6",
   "metadata": {},
   "source": [
    "Some of the popular languages that Data Scientists use are:\n",
    "1. Python\n",
    "2. R\n",
    "3. Julia\n",
    "4. Scala\n",
    "5. C++"
   ]
  },
  {
   "cell_type": "markdown",
   "id": "9239684e-e03f-484f-aa21-82704a5dd37c",
   "metadata": {},
   "source": [
    "Some of the commonly used libraries used by Data Scientists include:\n",
    "1. pandas\n",
    "2. numpy\n",
    "3. scikit-learn\n",
    "4. keras\n",
    "5. ggplot\n",
    "6. plotly"
   ]
  },
  {
   "cell_type": "markdown",
   "id": "beeb2ccb-5dad-402b-92e7-03320d6410e3",
   "metadata": {},
   "source": [
    "|Data Science Tools  |\n",
    "----------------------\n",
    "|Jupyter Notebook    |\n",
    "|Visual Studio Code  |\n",
    "|Google Collaboratory|"
   ]
  },
  {
   "cell_type": "markdown",
   "id": "9ab65890-0565-48dd-87a4-bb5316a1893b",
   "metadata": {},
   "source": [
    "### Below are a few examples of evaluating arithmetic expressions in Python"
   ]
  },
  {
   "cell_type": "code",
   "execution_count": 1,
   "id": "67d243fb-ef61-4e2a-8db5-87e846e051bb",
   "metadata": {
    "jupyter": {
     "source_hidden": true
    },
    "tags": []
   },
   "outputs": [
    {
     "data": {
      "text/plain": [
       "17"
      ]
     },
     "execution_count": 1,
     "metadata": {},
     "output_type": "execute_result"
    }
   ],
   "source": [
    "# This a simple arithmetic expression to mutiply then add integers.\n",
    "(3*4)+5"
   ]
  },
  {
   "cell_type": "code",
   "execution_count": 2,
   "id": "4db8fdfc-ca6f-463d-acad-4eb5d1a66f7f",
   "metadata": {
    "tags": []
   },
   "outputs": [
    {
     "data": {
      "text/plain": [
       "3.3333333333333335"
      ]
     },
     "execution_count": 2,
     "metadata": {},
     "output_type": "execute_result"
    }
   ],
   "source": [
    "# This will convert 200 minutes to hours by diving by 60\n",
    "200 / 60"
   ]
  },
  {
   "cell_type": "markdown",
   "id": "f998067c-2f57-4890-b4e4-1b34438fc0bb",
   "metadata": {},
   "source": [
    "**Objectives:**\n",
    "* List popular languages used by Data Scientists.\n",
    "* List some of the most commonly used libraries.\n",
    "* List 3 development environments often used in Data Science."
   ]
  },
  {
   "cell_type": "markdown",
   "id": "a5edfd8c-e2c8-4eb5-8c65-273678810cec",
   "metadata": {},
   "source": [
    "## Author\n",
    "Min Kyu Kim"
   ]
  }
 ],
 "metadata": {
  "kernelspec": {
   "display_name": "Python",
   "language": "python",
   "name": "conda-env-python-py"
  },
  "language_info": {
   "codemirror_mode": {
    "name": "ipython",
    "version": 3
   },
   "file_extension": ".py",
   "mimetype": "text/x-python",
   "name": "python",
   "nbconvert_exporter": "python",
   "pygments_lexer": "ipython3",
   "version": "3.7.12"
  }
 },
 "nbformat": 4,
 "nbformat_minor": 5
}
